{
  "nbformat": 4,
  "nbformat_minor": 0,
  "metadata": {
    "colab": {
      "provenance": [],
      "authorship_tag": "ABX9TyOtuBb/RkdECLfybKUaAEFK",
      "include_colab_link": true
    },
    "kernelspec": {
      "name": "python3",
      "display_name": "Python 3"
    },
    "language_info": {
      "name": "python"
    }
  },
  "cells": [
    {
      "cell_type": "markdown",
      "metadata": {
        "id": "view-in-github",
        "colab_type": "text"
      },
      "source": [
        "<a href=\"https://colab.research.google.com/github/adegard/Utilities/blob/master/Pulp_Integrate_linear_programming.ipynb\" target=\"_parent\"><img src=\"https://colab.research.google.com/assets/colab-badge.svg\" alt=\"Open In Colab\"/></a>"
      ]
    },
    {
      "cell_type": "code",
      "execution_count": 5,
      "metadata": {
        "colab": {
          "base_uri": "https://localhost:8080/"
        },
        "id": "zThMxG2dSSx9",
        "outputId": "3d71c267-564b-4cce-f50b-d3cb1f86ccf9"
      },
      "outputs": [
        {
          "output_type": "stream",
          "name": "stdout",
          "text": [
            "Collecting pulp\n",
            "  Downloading PuLP-2.7.0-py3-none-any.whl (14.3 MB)\n",
            "\u001b[2K     \u001b[90m━━━━━━━━━━━━━━━━━━━━━━━━━━━━━━━━━━━━━━━━\u001b[0m \u001b[32m14.3/14.3 MB\u001b[0m \u001b[31m71.5 MB/s\u001b[0m eta \u001b[36m0:00:00\u001b[0m\n",
            "\u001b[?25hInstalling collected packages: pulp\n",
            "Successfully installed pulp-2.7.0\n"
          ]
        }
      ],
      "source": [
        "!pip install pulp\n"
      ]
    },
    {
      "cell_type": "code",
      "source": [
        "from pulp import *\n",
        "\n",
        "#problem\n",
        "model = LpProblem(sense=LpMaximize)\n",
        "x_p=LpVariable(name=\"potatoes\",lowBound=0)\n",
        "x_c=LpVariable(name=\"carrots\",lowBound=0)\n",
        "\n",
        "model += x_p <= 3000\n",
        "model += x_c <= 4000\n",
        "model += x_p + x_c <= 5000\n",
        "model += x_p*1.2 + x_c*1.7\n",
        "#solve\n",
        "status = model.solve(PULP_CBC_CMD(msg=False))\n",
        "print(\"potatoes:\", x_p.value())\n",
        "print(\"carrots:\", x_c.value())\n",
        "print(\"profit:\", model.objective.value())"
      ],
      "metadata": {
        "id": "tQwk9kefS_gj",
        "colab": {
          "base_uri": "https://localhost:8080/"
        },
        "outputId": "db2c9a14-ce65-45a9-a71b-c5d794f1e04b"
      },
      "execution_count": 7,
      "outputs": [
        {
          "output_type": "stream",
          "name": "stdout",
          "text": [
            "potatoes: 1000.0\n",
            "carrots: 4000.0\n",
            "profit: 8000.0\n"
          ]
        }
      ]
    }
  ]
}